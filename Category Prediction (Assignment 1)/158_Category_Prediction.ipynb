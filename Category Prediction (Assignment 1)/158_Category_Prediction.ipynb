{
  "nbformat": 4,
  "nbformat_minor": 0,
  "metadata": {
    "colab": {
      "name": "Assignment 1 Task 2.ipynb",
      "provenance": [],
      "collapsed_sections": []
    },
    "kernelspec": {
      "name": "python3",
      "display_name": "Python 3"
    }
  },
  "cells": [
    {
      "cell_type": "code",
      "metadata": {
        "id": "VbEWplS12sTl"
      },
      "source": [
        "import gensim\n",
        "from gensim.models import Word2Vec\n",
        "import numpy\n",
        "from urllib.request import urlopen\n",
        "import scipy.optimize\n",
        "import random\n",
        "from sklearn import svm\n",
        "from sklearn import linear_model\n",
        "import matplotlib.pyplot as plt\n",
        "from sklearn.decomposition import PCA\n",
        "from collections import defaultdict\n",
        "import networkx as nx\n",
        "import gzip\n",
        "import math\n",
        "import nltk\n",
        "import string\n",
        "from nltk.stem.porter import *\n",
        "import time\n",
        "import datetime\n",
        "\n",
        "def parseDataFromURL(fname):\n",
        "    for l in urlopen(fname):\n",
        "        yield eval(l)\n",
        "\n",
        "def parseData(fname):\n",
        "    for l in open(fname):\n",
        "        yield eval(l)\n",
        "    \n",
        "def parse(f):\n",
        "    for l in gzip.open(f):\n",
        "        yield eval(l)\n",
        "\n",
        "def readGz(path):\n",
        "    for l in gzip.open(path, 'rt'):\n",
        "        yield eval(l)\n"
      ],
      "execution_count": null,
      "outputs": []
    },
    {
      "cell_type": "code",
      "metadata": {
        "id": "IcAVmToD5eDm"
      },
      "source": [
        "\n",
        "data = []\n",
        "\n",
        "for d in readGz(\"/content/drive/MyDrive/assignment1/train_Category.json.gz\"):\n",
        "    data.append(d)\n",
        "\n",
        "Ntrain = (9*len(data))//10\n",
        "# dataTrain = data[:Ntrain]\n",
        "\n"
      ],
      "execution_count": null,
      "outputs": []
    },
    {
      "cell_type": "code",
      "metadata": {
        "id": "8xJ8xKo_5eDm"
      },
      "source": [
        "\n",
        "data_test = []\n",
        "\n",
        "for d in readGz(\"/content/drive/MyDrive/assignment1/test_Category.json.gz\"):\n",
        "    data_test.append(d)\n",
        "\n"
      ],
      "execution_count": null,
      "outputs": []
    },
    {
      "cell_type": "code",
      "metadata": {
        "id": "FE1OpRLO5eDm",
        "colab": {
          "base_uri": "https://localhost:8080/"
        },
        "outputId": "677e6ac0-4617-41f5-be78-326cb5a30a37"
      },
      "source": [
        "\n",
        "data[0]\n",
        "\n"
      ],
      "execution_count": null,
      "outputs": [
        {
          "output_type": "execute_result",
          "data": {
            "text/plain": [
              "{'date': '2014-02-07',\n",
              " 'early_access': False,\n",
              " 'genre': 'Adventure',\n",
              " 'genreID': 3,\n",
              " 'hours': 4.1,\n",
              " 'reviewID': 'r75487422',\n",
              " 'text': 'Short Review:\\nA good starting chapter for this series, despite the main character being annoying (for now) and a short length. The story is good and actually gets more interesting. Worth the try.\\nLong Review:\\nBlackwell Legacy is the first on the series of (supposedly) 5 games that talks about the main protagonist, Rosangela Blackwell, as being a so called Medium, and in this first chapter we get to know how her story will start and how she will meet her adventure companion Joey...and really, that\\'s really all for for now and that\\'s not a bad thing, because in a way this game wants to show how hard her new job is, and that she cannot escape her destiny as a medium.\\nMy biggest complain for this chapter, except the short length, it\\'s the main protagonist being a \"bit\" too annoying to be likeable, and most of her dialogues will always be about complaining or just be annoyed. Understandable, sure, but lighten\\' up will ya!?\\nHowever, considering that in the next installments she will be much more likeable and kind of interesting, I\\'d say give it a shot and see if you like it: if you hate this first game, you might like the next, or can always stop here.\\nI recommend it.',\n",
              " 'userID': 'u74382925'}"
            ]
          },
          "metadata": {
            "tags": []
          },
          "execution_count": 4
        }
      ]
    },
    {
      "cell_type": "code",
      "metadata": {
        "colab": {
          "base_uri": "https://localhost:8080/"
        },
        "id": "Mj3nObEk-T0S",
        "outputId": "46250a2b-f0d5-41ef-9b6c-0484d8698df8"
      },
      "source": [
        "nltk.download('punkt')\n",
        "nltk.download('stopwords')\n",
        "sp = set(string.punctuation)"
      ],
      "execution_count": null,
      "outputs": [
        {
          "output_type": "stream",
          "text": [
            "[nltk_data] Downloading package punkt to /root/nltk_data...\n",
            "[nltk_data]   Unzipping tokenizers/punkt.zip.\n",
            "[nltk_data] Downloading package stopwords to /root/nltk_data...\n",
            "[nltk_data]   Unzipping corpora/stopwords.zip.\n"
          ],
          "name": "stdout"
        }
      ]
    },
    {
      "cell_type": "code",
      "metadata": {
        "id": "aOZiS97W__Cq"
      },
      "source": [
        "all_words = [nltk.word_tokenize(d['text']) for d in data]\n",
        "plot = []\n",
        "\n",
        "# Removing Stop Words\n",
        "from nltk.corpus import stopwords\n",
        "for i in range(len(all_words)):\n",
        "  all_words[i] = [w.lower() for w in all_words[i] if w.lower() not in stopwords.words('english')]\n",
        "  string = ' '.join(all_words[i])\n",
        "  r = ''.join([c for c in string if not c in sp])\n",
        "  plot.append(r)"
      ],
      "execution_count": null,
      "outputs": []
    },
    {
      "cell_type": "code",
      "metadata": {
        "colab": {
          "base_uri": "https://localhost:8080/"
        },
        "id": "Ch2QiGPGTI2H",
        "outputId": "209b4ad5-574f-4886-b121-98fb2c1f1eea"
      },
      "source": [
        "genre_new = [[d['genreID']] for d in data]\n",
        "plot[:10]"
      ],
      "execution_count": null,
      "outputs": [
        {
          "output_type": "execute_result",
          "data": {
            "text/plain": [
              "['short review  good starting chapter series  despite main character annoying   short length  story good actually gets interesting  worth try  long review  blackwell legacy first series  supposedly  5 games talks main protagonist  rosangela blackwell  called medium  first chapter get know story start meet adventure companion joey  really  s really s bad thing  way game wants show hard new job  escape destiny medium  biggest complain chapter  except short length  s main protagonist  bit  annoying likeable  dialogues always complaining annoyed  understandable  sure  lighten  ya   however  considering next installments much likeable kind interesting  d say give shot see like  hate first game  might like next  always stop  recommend ',\n",
              " 'think top 3 favirote tcgs time  wish added draw power make fact 75 card decks min 25 land makes mana screw happen quite often ',\n",
              " '10  suck 20  skill 15  concentrated power 5  pleasure 50  pain 0  reason purchase game',\n",
              " 'game realy realy nice play  s hide seek adult horror  truely like  go friends group level try get tapes boogyman gets  realy shocking fun alone  realy makes fun online friends  reactions friends boogyman get sweet xd realy realy want recommend game ca nt  sad game dead  absolut never players online    game nice offline run around  offline  graphics low good offline game  shock moments obviouse get interesting  game horror online realy play online ',\n",
              " 'los fans del erizo azul lo pidieron aqui esta  el rayo de esperanza para la franquisia  sonic generations es el titulo de aniversario del erizo por definicion mezclando todas las zonas caracteristicas entrañables de los mejores juegos  brindando viejas piezas musicales remasterizadas remescladas  pero tampoco creas que son los mismos escenarios  para nada  ya que sega se saco un truco de la manga  classic sonic  el erizo en su diseño de los dias de gloria  solo el diseño  todo lo que amabas de la trilogia del genesis esta en los niveles de esta version del erizo  plataformeo puro  por el contrario  el sonic moderno brinda el significado de la velocidad la intensidad pura  eno conclusion  sonic genrations es un juego que se necesitaba en la crisis  pero nos abre los ojos para darnos cuenta de la decadencia de sonic  el juego es malo  pero se aprovecha de los demas juegos perdiendo una escencia unica  dando entender que podria ser un tiempo oscuro para el erizo debido que ha habido una buena direccion para sus juegos',\n",
              " 'good game love running around accomplishing basically nothing  game pretty buggy s expected point s  map huge allows ridiculous amount exploration  re free check bunch towns look  small cities look like small towns single buildings middle nowhere look like buildings small towns  time playing ve ever seen one player  even full servers  instead exchanging glares calculated whether fight would worth  punched promptly ran away  bottom line  s fun know re  boring hell nt  get game  read guides kids  course even s still crapshoot ',\n",
              " 'lknajhfkjsdhfjkdsfhasdkfjhsdfkjhdssjdhfaslkdjfhasdkljfhasdfjhasdfhasdkfjhasdklfjhasdkjfhaskdfhaskdfasdf thats think game    jagfkhasdfhsdgfgakgfasjkgasjkgsdjkgsdjfkgsdjfgdfgasdfsgadfghasfajfgasdgfasdfskdjfasdfasdf   perfect review   ',\n",
              " '210  dark enough',\n",
              " 'good',\n",
              " '1010 firstborn openworldgenre']"
            ]
          },
          "metadata": {
            "tags": []
          },
          "execution_count": 7
        }
      ]
    },
    {
      "cell_type": "code",
      "metadata": {
        "colab": {
          "base_uri": "https://localhost:8080/"
        },
        "id": "A_f0rZLgS9si",
        "outputId": "93d54478-0edb-4879-d97c-fa2649555e90"
      },
      "source": [
        "from sklearn.preprocessing import MultiLabelBinarizer\n",
        "from sklearn.linear_model import LogisticRegression\n",
        "\n",
        "# Binary Relevance\n",
        "from sklearn.multiclass import OneVsRestClassifier\n",
        "\n",
        "# Performance metric\n",
        "from sklearn.metrics import f1_score\n",
        "\n",
        "multilabel_binarizer = MultiLabelBinarizer()\n",
        "multilabel_binarizer.fit(genre_new)\n",
        "\n",
        "# transform target variable\n",
        "y = multilabel_binarizer.transform(genre_new)\n",
        "list(multilabel_binarizer.classes_)"
      ],
      "execution_count": null,
      "outputs": [
        {
          "output_type": "execute_result",
          "data": {
            "text/plain": [
              "[0, 1, 2, 3, 4]"
            ]
          },
          "metadata": {
            "tags": []
          },
          "execution_count": 8
        }
      ]
    },
    {
      "cell_type": "code",
      "metadata": {
        "id": "tmE3f-fZTKra"
      },
      "source": [
        "from sklearn.feature_extraction.text import TfidfVectorizer\n",
        "from sklearn.model_selection import train_test_split\n",
        "tfidf_vectorizer = TfidfVectorizer(max_features=10000, ngram_range=(1,3))\n",
        "xtrain, xval, ytrain, yval = train_test_split(plot, y, test_size=0.2, shuffle=False)\n",
        "xtrain_tfidf = tfidf_vectorizer.fit_transform(xtrain)\n",
        "xval_tfidf = tfidf_vectorizer.transform(xval)"
      ],
      "execution_count": null,
      "outputs": []
    },
    {
      "cell_type": "code",
      "metadata": {
        "id": "9KOJjUC6jPOI"
      },
      "source": [
        "ytrainNew = []\n",
        "for y_arr in ytrain:\n",
        "  if 1 in list(y_arr):\n",
        "    ytrainNew.append(list(y_arr).index(1))\n",
        "  else:\n",
        "    ytrainNew.append(0)\n",
        "\n",
        "\n",
        "yvalNew = []\n",
        "for y_arr in yval:\n",
        "  if 1 in list(y_arr):\n",
        "    yvalNew.append(list(y_arr).index(1))\n",
        "  else:\n",
        "    yvalNew.append(0)\n"
      ],
      "execution_count": null,
      "outputs": []
    },
    {
      "cell_type": "code",
      "metadata": {
        "colab": {
          "base_uri": "https://localhost:8080/"
        },
        "id": "-kK7g9MPiXIp",
        "outputId": "ed5f605c-f598-4430-f5d3-b0ae7813bdda"
      },
      "source": [
        "from sklearn.pipeline import Pipeline\n",
        "from sklearn.svm import LinearSVC\n",
        "text_clf = Pipeline([('tfidf', TfidfVectorizer(max_features=30000)),\n",
        "                      ('clf', LinearSVC()),\n",
        "                    ])\n",
        "text_clf.fit(xtrain, ytrainNew)\n",
        "\n",
        "predictions = text_clf.predict(xval)\n",
        "\n",
        "from sklearn.metrics import confusion_matrix, accuracy_score, classification_report\n",
        "print(accuracy_score(yvalNew, predictions))"
      ],
      "execution_count": null,
      "outputs": [
        {
          "output_type": "stream",
          "text": [
            "0.7558857142857143\n"
          ],
          "name": "stdout"
        }
      ]
    },
    {
      "cell_type": "code",
      "metadata": {
        "id": "dhGt1O7H5eDn"
      },
      "source": [
        "def feat(text):\n",
        "  arr = [w.lower() for w in nltk.word_tokenize(text) if w.lower() not in stopwords.words('english')]\n",
        "  string = ' '.join(arr)\n",
        "  r = ''.join([c for c in string if not c in sp])\n",
        "  return r\n",
        "\n",
        "Xtest = [feat(d['text']) for d in data_test]\n",
        "\n",
        "\n"
      ],
      "execution_count": null,
      "outputs": []
    },
    {
      "cell_type": "code",
      "metadata": {
        "cellView": "form",
        "id": "eyGN7-D3UDYx"
      },
      "source": [
        "#@title\n",
        "xtest_tfidf = tfidf_vectorizer.transform(Xtest)\n",
        "y_pred_test = clf.predict(xtest_tfidf)"
      ],
      "execution_count": null,
      "outputs": []
    },
    {
      "cell_type": "code",
      "metadata": {
        "id": "oGJ9VAyXqjUA",
        "cellView": "form"
      },
      "source": [
        "#@title\n",
        "y_pred_prob = clf.predict_proba(xtest_tfidf)\n",
        "y_pred_test = (y_pred_prob >= 0.36).astype(int)"
      ],
      "execution_count": null,
      "outputs": []
    },
    {
      "cell_type": "code",
      "metadata": {
        "colab": {
          "base_uri": "https://localhost:8080/"
        },
        "id": "JqrkTd0Cj7G0",
        "cellView": "form",
        "outputId": "879a3543-7483-4887-a98d-62e56922f83c"
      },
      "source": [
        "#@title\n",
        "pred_test = []\n",
        "counter = 0\n",
        "for y_arr in y_pred_test:\n",
        "  if 1 in list(y_arr):\n",
        "    pred_test.append(list(y_arr).index(1))\n",
        "  else:\n",
        "    counter+=1\n",
        "    pred_test.append(0)\n",
        "counter/len(pred_test)"
      ],
      "execution_count": null,
      "outputs": [
        {
          "output_type": "execute_result",
          "data": {
            "text/plain": [
              "0.0349"
            ]
          },
          "metadata": {
            "tags": []
          },
          "execution_count": 73
        }
      ]
    },
    {
      "cell_type": "code",
      "metadata": {
        "colab": {
          "base_uri": "https://localhost:8080/"
        },
        "id": "CVRPRdSPjo1D",
        "cellView": "form",
        "outputId": "f0a309ab-2689-4fca-a435-eebd109ebdce"
      },
      "source": [
        "#@title\n",
        "pred_test[:10]"
      ],
      "execution_count": null,
      "outputs": [
        {
          "output_type": "execute_result",
          "data": {
            "text/plain": [
              "[3, 1, 0, 0, 3, 0, 0, 0, 3, 0]"
            ]
          },
          "metadata": {
            "tags": []
          },
          "execution_count": 18
        }
      ]
    },
    {
      "cell_type": "code",
      "metadata": {
        "colab": {
          "base_uri": "https://localhost:8080/"
        },
        "id": "RrbJEWp3nHw1",
        "outputId": "b5f04e73-8362-4f2c-cc79-dfb97f86fb21"
      },
      "source": [
        "len(ytrainNew+yvalNew)"
      ],
      "execution_count": null,
      "outputs": [
        {
          "output_type": "execute_result",
          "data": {
            "text/plain": [
              "175000"
            ]
          },
          "metadata": {
            "tags": []
          },
          "execution_count": 70
        }
      ]
    },
    {
      "cell_type": "code",
      "metadata": {
        "id": "tGdpPjQNm4mq"
      },
      "source": [
        "from sklearn.pipeline import Pipeline\n",
        "from sklearn.svm import LinearSVC\n",
        "text_clf = Pipeline([('tfidf', TfidfVectorizer(max_features=30000)), ('clf', LinearSVC())])\n",
        "text_clf.fit(Xtrain, ytrainNew)\n",
        "yPredictions = text_clf.predict(Xtest)\n"
      ],
      "execution_count": null,
      "outputs": []
    },
    {
      "cell_type": "code",
      "metadata": {
        "id": "yLtsVnQk5eDn"
      },
      "source": [
        "\n",
        "predictions = open(\"/content/drive/MyDrive/assignment1/predictions_Category_Aditya_A1.csv\", 'w')\n",
        "pos = 0\n",
        "for l in open(\"/content/drive/MyDrive/assignment1/pairs_Category.txt\"):\n",
        "    if l.startswith(\"userID\"):\n",
        "        predictions.write(l)\n",
        "        continue\n",
        "    u,b = l.strip().split('-')\n",
        "    _ = predictions.write(u + '-' + b + ',' + str(predic[pos]) + '\\n')\n",
        "    pos += 1\n",
        "\n",
        "predictions.close()\n",
        "\n"
      ],
      "execution_count": null,
      "outputs": []
    },
    {
      "cell_type": "code",
      "metadata": {
        "colab": {
          "base_uri": "https://localhost:8080/"
        },
        "id": "fTLBneX2TaPW",
        "cellView": "form",
        "outputId": "4e92a0d4-bd3e-4ed9-e93b-d7954bc1bd97"
      },
      "source": [
        "#@title\n",
        "lr = LogisticRegression(C=8, max_iter=12000000)\n",
        "clf = OneVsRestClassifier(lr)\n",
        "\n",
        "\n",
        "# fit model on train data\n",
        "clf.fit(xtrain_tfidf, ytrain)\n",
        "\n",
        "\n",
        "# make predictions for validation set\n",
        "y_pred = clf.predict(xval_tfidf)\n",
        "\n",
        "f1_score(yval, y_pred, average=\"micro\")\n",
        "\n",
        "# Cs = [2,4,6,8]\n",
        "# for c in Cs:\n",
        "#   print(c)\n",
        "#   lr = LogisticRegression(C=c, max_iter=12000000)\n",
        "#   clf = OneVsRestClassifier(lr)\n",
        "\n",
        "\n",
        "#   # fit model on train data\n",
        "#   clf.fit(xtrain_tfidf, ytrain)\n",
        "\n",
        "\n",
        "#   # make predictions for validation set\n",
        "#   y_pred = clf.predict(xval_tfidf)\n",
        "\n",
        "#   print(f1_score(yval, y_pred, average=\"micro\"))"
      ],
      "execution_count": null,
      "outputs": [
        {
          "output_type": "execute_result",
          "data": {
            "text/plain": [
              "0.7414306551598394"
            ]
          },
          "metadata": {
            "tags": []
          },
          "execution_count": 69
        }
      ]
    },
    {
      "cell_type": "code",
      "metadata": {
        "colab": {
          "base_uri": "https://localhost:8080/"
        },
        "id": "xUX05u7lpkCC",
        "cellView": "form",
        "outputId": "bb754b47-7647-4986-9fe1-d78fb1ac0955"
      },
      "source": [
        "#@title\n",
        "# predict probabilities\n",
        "y_pred_prob = clf.predict_proba(xval_tfidf)\n",
        "# y_pred_test = (y_pred_prob >= 0.36).astype(int)\n",
        "# f1_score(yval, y_pred_test, average=\"micro\")\n",
        "best = []\n",
        "thresholds = [x/100 for x in range(1,101)]\n",
        "for t in thresholds:\n",
        "#t = 0.3 # threshold value\n",
        "  y_pred_new = (y_pred_prob >= t).astype(int)\n",
        "  # evaluate performance\n",
        "  best.append((f1_score(yval, y_pred_new, average=\"micro\"),t))\n",
        "\n",
        "best.sort()\n",
        "best.reverse()\n",
        "best"
      ],
      "execution_count": null,
      "outputs": [
        {
          "output_type": "execute_result",
          "data": {
            "text/plain": [
              "[(0.7526990411208918, 0.36),\n",
              " (0.7525250384935938, 0.37),\n",
              " (0.7522727272727273, 0.38),\n",
              " (0.7521281643361524, 0.35),\n",
              " (0.7521135610647778, 0.39),\n",
              " (0.7516860481252254, 0.34),\n",
              " (0.7515045315484825, 0.4),\n",
              " (0.7513248906152981, 0.41),\n",
              " (0.7512306780105072, 0.33),\n",
              " (0.750599618984965, 0.32),\n",
              " (0.7505734777432563, 0.42),\n",
              " (0.7498759160316487, 0.43),\n",
              " (0.7496868362289637, 0.31),\n",
              " (0.7487150870803841, 0.44),\n",
              " (0.7483530605343254, 0.3),\n",
              " (0.7478073413460118, 0.45),\n",
              " (0.7475094653741843, 0.29),\n",
              " (0.7465926299848561, 0.46),\n",
              " (0.7456442871859184, 0.47),\n",
              " (0.7455909993734753, 0.28),\n",
              " (0.7438374066785838, 0.48),\n",
              " (0.7438359788359789, 0.27),\n",
              " (0.7425041161276679, 0.49),\n",
              " (0.7419160104986878, 0.26),\n",
              " (0.7414306551598394, 0.5),\n",
              " (0.7399172025932773, 0.25),\n",
              " (0.7390798972225621, 0.51),\n",
              " (0.7374208751097353, 0.52),\n",
              " (0.7369872546619071, 0.24),\n",
              " (0.7356749055318095, 0.53),\n",
              " (0.7342612693142636, 0.23),\n",
              " (0.7335370416562733, 0.54),\n",
              " (0.7313168609797426, 0.22),\n",
              " (0.7304561028510358, 0.55),\n",
              " (0.7284058016860954, 0.56),\n",
              " (0.7276427840071923, 0.21),\n",
              " (0.7256420059899319, 0.57),\n",
              " (0.7242171293094932, 0.2),\n",
              " (0.7226645264847512, 0.58),\n",
              " (0.7192005362257023, 0.19),\n",
              " (0.7173119065010957, 0.59),\n",
              " (0.7143990384615384, 0.18),\n",
              " (0.7085223034020535, 0.17),\n",
              " (0.7064086420571277, 0.6),\n",
              " (0.702392888175924, 0.61),\n",
              " (0.7019754927083819, 0.16),\n",
              " (0.6984372895055906, 0.62),\n",
              " (0.6940337608492608, 0.15),\n",
              " (0.6939066397434375, 0.63),\n",
              " (0.6885200932656701, 0.64),\n",
              " (0.6859582648738669, 0.14),\n",
              " (0.6834344586769001, 0.65),\n",
              " (0.6790862873459155, 0.66),\n",
              " (0.6780348722447638, 0.13),\n",
              " (0.6707489235547399, 0.67),\n",
              " (0.665694002099532, 0.68),\n",
              " (0.6632521049394499, 0.12),\n",
              " (0.6602805582463316, 0.69),\n",
              " (0.654649333743152, 0.7),\n",
              " (0.6527363801953966, 0.11),\n",
              " (0.6498670842285423, 0.71),\n",
              " (0.6438648052902277, 0.72),\n",
              " (0.6416740549689691, 0.1),\n",
              " (0.637360195541071, 0.73),\n",
              " (0.630351939027124, 0.74),\n",
              " (0.6258649764493808, 0.09),\n",
              " (0.6241532440162577, 0.75),\n",
              " (0.6170914883932636, 0.76),\n",
              " (0.6121259266895978, 0.08),\n",
              " (0.6106738997555012, 0.77),\n",
              " (0.6025127177431786, 0.78),\n",
              " (0.5959470476338367, 0.79),\n",
              " (0.5945278786295372, 0.07),\n",
              " (0.5888287161039316, 0.8),\n",
              " (0.5817566104231064, 0.81),\n",
              " (0.5761102286069479, 0.06),\n",
              " (0.5743351775834374, 0.82),\n",
              " (0.5665460795874723, 0.83),\n",
              " (0.559064929886356, 0.05),\n",
              " (0.5568436120239512, 0.84),\n",
              " (0.5479530023986665, 0.85),\n",
              " (0.5396636049147083, 0.04),\n",
              " (0.5381965801451593, 0.86),\n",
              " (0.5275116399379204, 0.87),\n",
              " (0.5170007334094466, 0.03),\n",
              " (0.5160697504437716, 0.88),\n",
              " (0.5044798144829767, 0.89),\n",
              " (0.49124376837530365, 0.9),\n",
              " (0.4866119948621678, 0.02),\n",
              " (0.47729768132790806, 0.91),\n",
              " (0.46204074525509314, 0.92),\n",
              " (0.4443807465878773, 0.93),\n",
              " (0.4387108980827447, 0.01),\n",
              " (0.4257620452310718, 0.94),\n",
              " (0.4038116846284742, 0.95),\n",
              " (0.3776946867931496, 0.96),\n",
              " (0.3423257570393448, 0.97),\n",
              " (0.2965840394280026, 0.98),\n",
              " (0.22821608230743948, 0.99),\n",
              " (0.0, 1.0)]"
            ]
          },
          "metadata": {
            "tags": []
          },
          "execution_count": 70
        }
      ]
    },
    {
      "cell_type": "code",
      "metadata": {
        "colab": {
          "base_uri": "https://localhost:8080/"
        },
        "id": "HOujIEFQ_ZJP",
        "cellView": "form",
        "outputId": "c284a837-e61c-4675-9dd5-9b1ba22d3b03"
      },
      "source": [
        "#@title\n",
        "yval[:10]"
      ],
      "execution_count": null,
      "outputs": [
        {
          "output_type": "execute_result",
          "data": {
            "text/plain": [
              "array([[0, 1, 0, 0, 0],\n",
              "       [0, 1, 0, 0, 0],\n",
              "       [0, 1, 0, 0, 0],\n",
              "       [1, 0, 0, 0, 0],\n",
              "       [1, 0, 0, 0, 0],\n",
              "       [1, 0, 0, 0, 0],\n",
              "       [1, 0, 0, 0, 0],\n",
              "       [0, 1, 0, 0, 0],\n",
              "       [1, 0, 0, 0, 0],\n",
              "       [1, 0, 0, 0, 0]])"
            ]
          },
          "metadata": {
            "tags": []
          },
          "execution_count": 13
        }
      ]
    }
  ]
}